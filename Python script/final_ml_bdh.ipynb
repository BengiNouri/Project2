{
  "nbformat": 4,
  "nbformat_minor": 0,
  "metadata": {
    "colab": {
      "provenance": [],
      "gpuType": "T4",
      "mount_file_id": "1ELHKmU53kgG1KPeE9YVOiVi-c1DOBJIi",
      "authorship_tag": "ABX9TyOFSKBUZBs5aJ+L3lItsn+S",
      "include_colab_link": true
    },
    "kernelspec": {
      "name": "python3",
      "display_name": "Python 3"
    },
    "language_info": {
      "name": "python"
    },
    "accelerator": "GPU"
  },
  "cells": [
    {
      "cell_type": "markdown",
      "metadata": {
        "id": "view-in-github",
        "colab_type": "text"
      },
      "source": [
        "<a href=\"https://colab.research.google.com/github/BengiNouri/Project2/blob/main/final_ml_bdh.ipynb\" target=\"_parent\"><img src=\"https://colab.research.google.com/assets/colab-badge.svg\" alt=\"Open In Colab\"/></a>"
      ]
    },
    {
      "cell_type": "code",
      "execution_count": 1,
      "metadata": {
        "id": "eaiG06CWtQlR"
      },
      "outputs": [],
      "source": [
        "import pandas as pd\n",
        "import numpy as np\n",
        "import matplotlib.pyplot as plt\n",
        "from sklearn.model_selection import train_test_split\n",
        "from sklearn.metrics import r2_score, mean_absolute_error, mean_squared_error\n",
        "from xgboost import XGBRegressor\n",
        "from sklearn.model_selection import GridSearchCV\n",
        "from sklearn.ensemble import RandomForestRegressor\n",
        "from sklearn.linear_model import LinearRegression"
      ]
    },
    {
      "cell_type": "code",
      "source": [
        "data = pd.read_csv('/content/drive/MyDrive/CleanDdh(1).csv')"
      ],
      "metadata": {
        "id": "jjiOdB32toRm"
      },
      "execution_count": 2,
      "outputs": []
    },
    {
      "cell_type": "code",
      "source": [
        "data = pd.get_dummies(data, columns=['Brand', 'Gear', 'Fuel_Type', 'Model'])"
      ],
      "metadata": {
        "id": "42ZYqjmfzHHf"
      },
      "execution_count": 3,
      "outputs": []
    },
    {
      "cell_type": "code",
      "source": [
        "# Make vector of features for modelling\n",
        "selected_features = data.columns.tolist()\n",
        "# Remove the columns from our vector that are not meant to be used for modelling\n",
        "selected_features.remove('Price')\n",
        "selected_features.remove('Link')\n",
        "\n",
        "# Split into train & test set\n",
        "X_train, X_test, y_train, y_test = train_test_split(data[selected_features], data['Price'], test_size=0.2, random_state=42)\n"
      ],
      "metadata": {
        "id": "VnuxNDAtzKic"
      },
      "execution_count": 4,
      "outputs": []
    },
    {
      "cell_type": "code",
      "source": [
        "# Baseline xgboosting without parameters # 6 sec\n",
        "xgb_model = XGBRegressor(n_estimators=600)\n",
        "xgb_model.fit(X_train, y_train)\n",
        "predictions_xgb = xgb_model.predict(X_test)\n",
        "\n",
        "#Metrics\n",
        "r_squared = r2_score(y_test, predictions_xgb)\n",
        "mae = mean_absolute_error(y_test, predictions_xgb)\n",
        "mse = mean_squared_error(y_test, predictions_xgb)\n",
        "rmse = np.sqrt(mse)\n",
        "#Print Metrics\n",
        "print(\"R-squared:\", r_squared)\n",
        "print(\"Mean Absolute Error:\", mae)\n",
        "print(\"Mean Squared Error:\", mse)\n",
        "print(\"Root Mean Squared Error:\", rmse)\n",
        "\n",
        "# Feature Importance\n",
        "feature_importances = xgb_model.feature_importances_\n",
        "feature_importance_df = pd.DataFrame({'Feature': X_train.columns, 'Importance': feature_importances})\n",
        "feature_importance_df = feature_importance_df.sort_values(by='Importance', ascending=False)\n",
        "N = 25  # Number of Features\n",
        "print(\"Top\", N, \"important features:\")\n",
        "print(feature_importance_df.head(N))"
      ],
      "metadata": {
        "colab": {
          "base_uri": "https://localhost:8080/"
        },
        "id": "Ym3QlTxqzcfi",
        "outputId": "a98f995d-5bf0-4449-a2f1-756d46ce9ea1"
      },
      "execution_count": 7,
      "outputs": [
        {
          "output_type": "stream",
          "name": "stdout",
          "text": [
            "R-squared: 0.8842752475425635\n",
            "Mean Absolute Error: 24906.46034926732\n",
            "Mean Squared Error: 1493825623.5922046\n",
            "Root Mean Squared Error: 38650.040408674926\n",
            "Top 25 important features:\n",
            "                     Feature  Importance\n",
            "60          Gear_Automatgear    0.202291\n",
            "44                  Brand_MG    0.031731\n",
            "46            Brand_Mercedes    0.029807\n",
            "30                Horsepower    0.028822\n",
            "63          Fuel_Type_Diesel    0.016220\n",
            "634                 Model_i3    0.015926\n",
            "50                Brand_Opel    0.014657\n",
            "52             Brand_Porsche    0.014423\n",
            "28   Adaptive Cruise Control    0.014274\n",
            "278         Model_California    0.012844\n",
            "161                Model_911    0.011389\n",
            "58                  Brand_VW    0.009643\n",
            "412             Model_Kodiaq    0.009486\n",
            "609               Model_XC60    0.009150\n",
            "582          Model_Traveller    0.008408\n",
            "146                  Model_6    0.008247\n",
            "198             Model_Arteon    0.007827\n",
            "129               Model_5008    0.007781\n",
            "4                        4WD    0.007182\n",
            "29                      Year    0.007008\n",
            "366             Model_GLB200    0.006946\n",
            "55               Brand_Skoda    0.006561\n",
            "39                Brand_Ford    0.006535\n",
            "0                  KM Driven    0.006426\n",
            "577             Model_Touran    0.006249\n"
          ]
        }
      ]
    },
    {
      "cell_type": "code",
      "source": [
        "# XGBoosting with hyperparameters # 32 min\n",
        "\n",
        "# Defining grid\n",
        "param_grid = {\n",
        "        'min_child_weight': [5, 10],\n",
        "        'gamma': [0, 2],\n",
        "        'subsample': [0.6, 1.0],\n",
        "        'colsample_bytree': [0.6, 1.0],\n",
        "        'max_depth': [3, 8, 12]\n",
        "        }\n",
        "\n",
        "xgb_model = XGBRegressor(n_estimators=600)\n",
        "\n",
        "grid_search = GridSearchCV(estimator=xgb_model, param_grid=param_grid, cv=5, scoring='neg_root_mean_squared_error', verbose=0)\n",
        "grid_search.fit(X_train, y_train)\n",
        "print(\"Best Parameters:\", grid_search.best_params_)\n",
        "\n",
        "best_model = grid_search.best_estimator_\n",
        "predictions = best_model.predict(X_test)\n",
        "\n",
        "#Metrics\n",
        "r_squared = r2_score(y_test, predictions)\n",
        "mae = mean_absolute_error(y_test, predictions)\n",
        "mse = mean_squared_error(y_test, predictions)\n",
        "rmse = np.sqrt(mse)\n",
        "#Print Metrics\n",
        "print(\"R-squared:\", r_squared)\n",
        "print(\"Mean Absolute Error:\", mae)\n",
        "print(\"Mean Squared Error:\", mse)\n",
        "print(\"Root Mean Squared Error:\", rmse)\n",
        "\n",
        "# Feature Importance\n",
        "feature_importances = best_model.feature_importances_\n",
        "feature_importance_df = pd.DataFrame({'Feature': X_train.columns, 'Importance': feature_importances})\n",
        "feature_importance_df = feature_importance_df.sort_values(by='Importance', ascending=False)\n",
        "N = 25  # Number of Features\n",
        "print(\"Top\", N, \"important features:\")\n",
        "print(feature_importance_df.head(N))"
      ],
      "metadata": {
        "colab": {
          "base_uri": "https://localhost:8080/"
        },
        "id": "wYWHc4mEz7AO",
        "outputId": "34620298-4c7a-4599-d98d-2b3a174c4b0f"
      },
      "execution_count": 6,
      "outputs": [
        {
          "output_type": "stream",
          "name": "stdout",
          "text": [
            "Best Parameters: {'colsample_bytree': 0.6, 'gamma': 0, 'max_depth': 8, 'min_child_weight': 10, 'subsample': 1.0}\n",
            "R-squared: 0.8611779330398579\n",
            "Mean Absolute Error: 26771.68505618751\n",
            "Mean Squared Error: 1791975842.1722767\n",
            "Root Mean Squared Error: 42331.73563855227\n",
            "Top 25 important features:\n",
            "                     Feature  Importance\n",
            "60          Gear_Automatgear    0.271548\n",
            "61         Gear_Manuelt gear    0.083528\n",
            "52             Brand_Porsche    0.024937\n",
            "30                Horsepower    0.023986\n",
            "44                  Brand_MG    0.017475\n",
            "46            Brand_Mercedes    0.017227\n",
            "28   Adaptive Cruise Control    0.015451\n",
            "0                  KM Driven    0.014002\n",
            "64          Fuel_Type_Hybrid    0.013301\n",
            "4                        4WD    0.013149\n",
            "17            Sports Package    0.013066\n",
            "634                 Model_i3    0.012773\n",
            "609               Model_XC60    0.011924\n",
            "180                 Model_A6    0.011682\n",
            "50                Brand_Opel    0.011072\n",
            "198             Model_Arteon    0.010682\n",
            "19              Xenon Lights    0.010324\n",
            "29                      Year    0.010079\n",
            "63          Fuel_Type_Diesel    0.009001\n",
            "12            Headup Display    0.007800\n",
            "32                Brand_Audi    0.007752\n",
            "465             Model_Optima    0.007334\n",
            "58                  Brand_VW    0.007090\n",
            "129               Model_5008    0.006417\n",
            "577             Model_Touran    0.006158\n"
          ]
        }
      ]
    },
    {
      "cell_type": "code",
      "source": [
        "# Random Forest # 2 min\n",
        "rf_model = RandomForestRegressor(n_estimators=600, random_state=42)\n",
        "\n",
        "# Train the model\n",
        "rf_model.fit(X_train, y_train)\n",
        "\n",
        "# Make predictions on the test set\n",
        "rpredictions = rf_model.predict(X_test)\n",
        "\n",
        "# Calculate Mean Squared Error\n",
        "rr_squared = r2_score(y_test, rpredictions)\n",
        "rmae = mean_absolute_error(y_test, rpredictions)\n",
        "rmse = mean_squared_error(y_test, rpredictions)\n",
        "rrmse = np.sqrt(rmse)\n",
        "\n",
        "print(\"Random Forest Regression Model Evaluation:\")\n",
        "print(\"R-squared:\", rr_squared)\n",
        "print(\"Mean Absolute Error:\", rmae)\n",
        "print(\"Mean Squared Error:\", rmse)\n",
        "print(\"Root Mean Squared Error:\", rrmse)\n",
        "\n",
        "# Feature Importance For Random Forest\n",
        "feature_importances = rf_model.feature_importances_\n",
        "feature_importance_df = pd.DataFrame({'Feature': X_train.columns, 'Importance': feature_importances})\n",
        "feature_importance_df = feature_importance_df.sort_values(by='Importance', ascending=False)\n",
        "N = 25  # Number of Features\n",
        "print(\"Top\", N, \"important features:\")\n",
        "print(feature_importance_df.head(N))"
      ],
      "metadata": {
        "colab": {
          "base_uri": "https://localhost:8080/"
        },
        "id": "cPeMDsp-FwaA",
        "outputId": "530d2253-b11c-457d-b7b4-774232ee1f6f"
      },
      "execution_count": 8,
      "outputs": [
        {
          "output_type": "stream",
          "name": "stdout",
          "text": [
            "Random Forest Regression Model Evaluation:\n",
            "R-squared: 0.8598919183336144\n",
            "Mean Absolute Error: 27149.13154669192\n",
            "Mean Squared Error: 1808576281.4016407\n",
            "Root Mean Squared Error: 42527.35921029709\n",
            "Top 25 important features:\n",
            "                     Feature  Importance\n",
            "0                  KM Driven    0.236648\n",
            "30                Horsepower    0.227534\n",
            "61         Gear_Manuelt gear    0.164563\n",
            "60          Gear_Automatgear    0.147800\n",
            "1                       Km/L    0.029816\n",
            "29                      Year    0.026154\n",
            "46            Brand_Mercedes    0.009657\n",
            "4                        4WD    0.006419\n",
            "63          Fuel_Type_Diesel    0.005859\n",
            "28   Adaptive Cruise Control    0.004866\n",
            "6             Cruise Control    0.003915\n",
            "19              Xenon Lights    0.003878\n",
            "52             Brand_Porsche    0.002961\n",
            "13                    Isofix    0.002924\n",
            "11                Glass Roof    0.002760\n",
            "5              Parkingsensor    0.002699\n",
            "278         Model_California    0.002675\n",
            "2                        GPS    0.002596\n",
            "15                Regnsensor    0.002494\n",
            "17            Sports Package    0.002369\n",
            "9                   El-Sæder    0.002367\n",
            "7                   Antispin    0.002274\n",
            "161                Model_911    0.002255\n",
            "18                Seatwarmer    0.002244\n",
            "23                   Nysynet    0.002233\n"
          ]
        }
      ]
    },
    {
      "cell_type": "code",
      "source": [
        "# Linear regressionsmodel # 1 sec\n",
        "l_features = ['KM Driven', 'Year', 'Horsepower', 'Km/L', 'Gear_Automatgear', 'Fuel_Type_Diesel', 'Adaptive Cruise Control']\n",
        "lX_train, lX_test, ly_train, ly_test = train_test_split(data[l_features], data['Price'], test_size=0.2, random_state=42)\n",
        "\n",
        "linear_model = LinearRegression()\n",
        "\n",
        "# Train the model\n",
        "linear_model.fit(lX_train, ly_train)\n",
        "\n",
        "# Make predictions on the test set\n",
        "linear_predictions = linear_model.predict(lX_test)\n",
        "\n",
        "# Metrics\n",
        "linear_r_squared = r2_score(y_test, linear_predictions)\n",
        "linear_mae = mean_absolute_error(y_test, linear_predictions)\n",
        "linear_mse = mean_squared_error(y_test, linear_predictions)\n",
        "linear_rmse = np.sqrt(linear_mse)\n",
        "\n",
        "print(\"Linear Regression Model Evaluation:\")\n",
        "print(\"R-squared:\", linear_r_squared)\n",
        "print(\"Mean Absolute Error:\", linear_mae)\n",
        "print(\"Mean Squared Error:\", linear_mse)\n",
        "print(\"Root Mean Squared Error:\", linear_rmse)"
      ],
      "metadata": {
        "colab": {
          "base_uri": "https://localhost:8080/"
        },
        "id": "3pOpTvZm095r",
        "outputId": "4f7704a4-cf1b-4856-8ba5-582d163108a7"
      },
      "execution_count": 10,
      "outputs": [
        {
          "output_type": "stream",
          "name": "stdout",
          "text": [
            "Linear Regression Model Evaluation:\n",
            "R-squared: 0.6821651675024251\n",
            "Mean Absolute Error: 43425.21350715471\n",
            "Mean Squared Error: 4102750766.5625896\n",
            "Root Mean Squared Error: 64052.71865083159\n"
          ]
        }
      ]
    }
  ]
}