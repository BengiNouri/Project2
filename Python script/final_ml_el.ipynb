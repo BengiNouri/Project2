{
  "nbformat": 4,
  "nbformat_minor": 0,
  "metadata": {
    "colab": {
      "provenance": [],
      "machine_shape": "hm",
      "gpuType": "L4",
      "mount_file_id": "1rR9OG-Z-ZyfJ3lC2wxb2NXwWHeYdzKSx",
      "authorship_tag": "ABX9TyNhV1UO1fGPt88WkgQAZWcl",
      "include_colab_link": true
    },
    "kernelspec": {
      "name": "python3",
      "display_name": "Python 3"
    },
    "language_info": {
      "name": "python"
    },
    "accelerator": "GPU"
  },
  "cells": [
    {
      "cell_type": "markdown",
      "metadata": {
        "id": "view-in-github",
        "colab_type": "text"
      },
      "source": [
        "<a href=\"https://colab.research.google.com/github/BengiNouri/Project2/blob/main/final_ml_el.ipynb\" target=\"_parent\"><img src=\"https://colab.research.google.com/assets/colab-badge.svg\" alt=\"Open In Colab\"/></a>"
      ]
    },
    {
      "cell_type": "code",
      "execution_count": 1,
      "metadata": {
        "id": "eaiG06CWtQlR"
      },
      "outputs": [],
      "source": [
        "import pandas as pd\n",
        "import numpy as np\n",
        "import matplotlib.pyplot as plt\n",
        "from sklearn.model_selection import train_test_split\n",
        "from sklearn.metrics import r2_score, mean_absolute_error, mean_squared_error\n",
        "from xgboost import XGBRegressor\n",
        "from sklearn.model_selection import GridSearchCV\n",
        "from sklearn.ensemble import RandomForestRegressor\n",
        "from sklearn.linear_model import LinearRegression"
      ]
    },
    {
      "cell_type": "code",
      "source": [
        "data = pd.read_csv('/content/drive/MyDrive/imputed_cardata.csv')"
      ],
      "metadata": {
        "id": "jjiOdB32toRm"
      },
      "execution_count": 2,
      "outputs": []
    },
    {
      "cell_type": "code",
      "source": [
        "data = pd.get_dummies(data, columns=['Brand', 'Gear', 'Fuel_Type', 'Model'])"
      ],
      "metadata": {
        "id": "42ZYqjmfzHHf"
      },
      "execution_count": 3,
      "outputs": []
    },
    {
      "cell_type": "code",
      "source": [
        "# Make vector of features for modelling\n",
        "selected_features = data.columns.tolist()\n",
        "# Remove the columns from our vector that are not meant to be used for modelling\n",
        "selected_features.remove('Price')\n",
        "selected_features.remove('Link')\n",
        "\n",
        "# Split into train & test set\n",
        "X_train, X_test, y_train, y_test = train_test_split(data[selected_features], data['Price'], test_size=0.2, random_state=42)"
      ],
      "metadata": {
        "id": "VnuxNDAtzKic"
      },
      "execution_count": 4,
      "outputs": []
    },
    {
      "cell_type": "code",
      "source": [
        "# Baseline xgboosting without parameters # 2 sec\n",
        "xgb_model = XGBRegressor(n_estimators=600)\n",
        "xgb_model.fit(X_train, y_train)\n",
        "predictions_xgb = xgb_model.predict(X_test)\n",
        "\n",
        "#Metrics\n",
        "r_squared = r2_score(y_test, predictions_xgb)\n",
        "mae = mean_absolute_error(y_test, predictions_xgb)\n",
        "mse = mean_squared_error(y_test, predictions_xgb)\n",
        "rmse = np.sqrt(mse)\n",
        "#Print Metrics\n",
        "print(\"R-squared:\", r_squared)\n",
        "print(\"Mean Absolute Error:\", mae)\n",
        "print(\"Mean Squared Error:\", mse)\n",
        "print(\"Root Mean Squared Error:\", rmse)\n",
        "\n",
        "# Feature Importance\n",
        "feature_importances = xgb_model.feature_importances_\n",
        "feature_importance_df = pd.DataFrame({'Feature': X_train.columns, 'Importance': feature_importances})\n",
        "feature_importance_df = feature_importance_df.sort_values(by='Importance', ascending=False)\n",
        "N = 25  # Number of Features\n",
        "print(\"Top\", N, \"important features:\")\n",
        "print(feature_importance_df.head(N))"
      ],
      "metadata": {
        "colab": {
          "base_uri": "https://localhost:8080/"
        },
        "id": "Ym3QlTxqzcfi",
        "outputId": "89607f14-dcee-4027-b4f8-da4ac74c6f80"
      },
      "execution_count": 5,
      "outputs": [
        {
          "output_type": "stream",
          "name": "stdout",
          "text": [
            "R-squared: 0.8970661530405906\n",
            "Mean Absolute Error: 20372.09643977076\n",
            "Mean Squared Error: 1074767603.686463\n",
            "Root Mean Squared Error: 32783.648419394434\n",
            "Top 25 important features:\n",
            "              Feature  Importance\n",
            "88          Model_ID.    0.109601\n",
            "102     Model_Model 3    0.074346\n",
            "104     Model_Model X    0.067176\n",
            "86           Model_GT    0.056104\n",
            "33          Brand_BMW    0.040885\n",
            "45     Brand_Mercedes    0.040623\n",
            "31         Horsepower    0.039881\n",
            "82       Model_EQE350    0.038993\n",
            "92          Model_ID7    0.033569\n",
            "32         Brand_Audi    0.031920\n",
            "117    Model_Vivaro-e    0.030622\n",
            "43           Brand_MG    0.030000\n",
            "2    Range (Electric)    0.027863\n",
            "1                Km/L    0.023692\n",
            "85        Model_Enyaq    0.021918\n",
            "18     Sports Package    0.019034\n",
            "50     Brand_Polestar    0.018783\n",
            "35        Brand_Cupra    0.018243\n",
            "111          Model_Q4    0.016602\n",
            "120      Model_Zafira    0.015448\n",
            "95         Model_Kona    0.012813\n",
            "64        Model_Ariya    0.011758\n",
            "97          Model_MG4    0.010053\n",
            "138          Model_i4    0.009498\n",
            "96         Model_Leaf    0.009418\n"
          ]
        }
      ]
    },
    {
      "cell_type": "code",
      "source": [
        "# XGBoosting with hyperparameters # 4 min\n",
        "\n",
        "#Defining grid\n",
        "param_grid = {\n",
        "        'min_child_weight': [5, 10],\n",
        "        'gamma': [0, 2],\n",
        "        'subsample': [0.6, 1.0],\n",
        "        'colsample_bytree': [0.6, 1.0],\n",
        "        'max_depth': [3, 8, 12]\n",
        "        }\n",
        "\n",
        "xgb_model = XGBRegressor(n_estimators=600)\n",
        "\n",
        "grid_search = GridSearchCV(estimator=xgb_model, param_grid=param_grid, cv=5, scoring='neg_root_mean_squared_error', verbose=0)\n",
        "grid_search.fit(X_train, y_train)\n",
        "print(\"Best Parameters:\", grid_search.best_params_)\n",
        "\n",
        "best_model = grid_search.best_estimator_\n",
        "predictions = best_model.predict(X_test)\n",
        "\n",
        "#Metrics\n",
        "r_squared = r2_score(y_test, predictions)\n",
        "mae = mean_absolute_error(y_test, predictions)\n",
        "mse = mean_squared_error(y_test, predictions)\n",
        "rmse = np.sqrt(mse)\n",
        "#Print Metrics\n",
        "print(\"R-squared:\", r_squared)\n",
        "print(\"Mean Absolute Error:\", mae)\n",
        "print(\"Mean Squared Error:\", mse)\n",
        "print(\"Root Mean Squared Error:\", rmse)\n",
        "\n",
        "# Feature Importance\n",
        "feature_importances = best_model.feature_importances_\n",
        "feature_importance_df = pd.DataFrame({'Feature': X_train.columns, 'Importance': feature_importances})\n",
        "feature_importance_df = feature_importance_df.sort_values(by='Importance', ascending=False)\n",
        "N = 25  # Number of Features\n",
        "print(\"Top\", N, \"important features:\")\n",
        "print(feature_importance_df.head(N))"
      ],
      "metadata": {
        "colab": {
          "base_uri": "https://localhost:8080/"
        },
        "id": "wYWHc4mEz7AO",
        "outputId": "e6183c22-69d8-4185-b75c-e7a9f629d43a"
      },
      "execution_count": 6,
      "outputs": [
        {
          "output_type": "stream",
          "name": "stdout",
          "text": [
            "Best Parameters: {'colsample_bytree': 1.0, 'gamma': 0, 'max_depth': 3, 'min_child_weight': 10, 'subsample': 1.0}\n",
            "R-squared: 0.9063747545815448\n",
            "Mean Absolute Error: 20431.03852184256\n",
            "Mean Squared Error: 977573302.0318407\n",
            "Root Mean Squared Error: 31266.168649705716\n",
            "Top 25 important features:\n",
            "                     Feature  Importance\n",
            "88                 Model_ID.    0.079890\n",
            "18            Sports Package    0.062647\n",
            "111                 Model_Q4    0.058810\n",
            "50            Brand_Polestar    0.056821\n",
            "89                 Model_ID3    0.055749\n",
            "32                Brand_Audi    0.050373\n",
            "31                Horsepower    0.046583\n",
            "2           Range (Electric)    0.039299\n",
            "95                Model_Kona    0.036852\n",
            "1                       Km/L    0.036642\n",
            "45            Brand_Mercedes    0.035554\n",
            "33                 Brand_BMW    0.032342\n",
            "55              Brand_Toyota    0.029423\n",
            "102            Model_Model 3    0.022842\n",
            "43                  Brand_MG    0.021058\n",
            "35               Brand_Cupra    0.020823\n",
            "4              Trailer Hitch    0.019786\n",
            "85               Model_Enyaq    0.018069\n",
            "26   Partly Leather Interior    0.015661\n",
            "138                 Model_i4    0.013989\n",
            "106            Model_Mokka-e    0.012476\n",
            "73              Model_EQA250    0.011352\n",
            "0                  KM Driven    0.011091\n",
            "81              Model_EQC400    0.010615\n",
            "121                Model_Zoe    0.008881\n"
          ]
        }
      ]
    },
    {
      "cell_type": "code",
      "source": [
        "# Random Forest # 10 sec\n",
        "rf_model = RandomForestRegressor(n_estimators=600, random_state=42)\n",
        "\n",
        "# Train the model\n",
        "rf_model.fit(X_train, y_train)\n",
        "\n",
        "# Make predictions on the test set\n",
        "rpredictions = rf_model.predict(X_test)\n",
        "\n",
        "# Calculate Mean Squared Error\n",
        "rr_squared = r2_score(y_test, rpredictions)\n",
        "rmae = mean_absolute_error(y_test, rpredictions)\n",
        "rmse = mean_squared_error(y_test, rpredictions)\n",
        "rrmse = np.sqrt(rmse)\n",
        "\n",
        "print(\"Random Forest Regression Model Evaluation:\")\n",
        "print(\"R-squared:\", rr_squared)\n",
        "print(\"Mean Absolute Error:\", rmae)\n",
        "print(\"Mean Squared Error:\", rmse)\n",
        "print(\"Root Mean Squared Error:\", rrmse)\n",
        "\n",
        "# Feature Importance For Random Forest\n",
        "feature_importances = rf_model.feature_importances_\n",
        "feature_importance_df = pd.DataFrame({'Feature': X_train.columns, 'Importance': feature_importances})\n",
        "feature_importance_df = feature_importance_df.sort_values(by='Importance', ascending=False)\n",
        "N = 25  # Number of Features\n",
        "print(\"Top\", N, \"important features:\")\n",
        "print(feature_importance_df.head(N))"
      ],
      "metadata": {
        "colab": {
          "base_uri": "https://localhost:8080/"
        },
        "id": "06yC_W1AE9eY",
        "outputId": "6b94c105-3c58-46e2-f2f5-55ec9b2a9f26"
      },
      "execution_count": 7,
      "outputs": [
        {
          "output_type": "stream",
          "name": "stdout",
          "text": [
            "Random Forest Regression Model Evaluation:\n",
            "R-squared: 0.890537079661891\n",
            "Mean Absolute Error: 21059.866416124292\n",
            "Mean Squared Error: 1142939898.3864286\n",
            "Root Mean Squared Error: 33807.39413776857\n",
            "Top 25 important features:\n",
            "                     Feature  Importance\n",
            "2           Range (Electric)    0.314459\n",
            "31                Horsepower    0.207263\n",
            "1                       Km/L    0.123879\n",
            "0                  KM Driven    0.119392\n",
            "88                 Model_ID.    0.019346\n",
            "18            Sports Package    0.009506\n",
            "104            Model_Model X    0.009301\n",
            "82              Model_EQE350    0.008482\n",
            "32                Brand_Audi    0.008099\n",
            "45            Brand_Mercedes    0.007573\n",
            "111                 Model_Q4    0.007522\n",
            "12                Glass Roof    0.006125\n",
            "33                 Brand_BMW    0.006124\n",
            "43                  Brand_MG    0.006095\n",
            "13            Headup Display    0.005788\n",
            "26   Partly Leather Interior    0.005383\n",
            "30                      Year    0.005214\n",
            "66                Model_Born    0.005116\n",
            "102            Model_Model 3    0.005013\n",
            "50            Brand_Polestar    0.004550\n",
            "14                    Isofix    0.004319\n",
            "61                   Model_2    0.004310\n",
            "17                    Soltag    0.004258\n",
            "35               Brand_Cupra    0.004168\n",
            "89                 Model_ID3    0.003833\n"
          ]
        }
      ]
    },
    {
      "cell_type": "code",
      "source": [
        "# Linear regressionsmodel # 0 sec\n",
        "l_features = ['KM Driven', 'Year', 'Horsepower', 'Km/L', 'Sports Package', 'Range (Electric)']\n",
        "lX_train, lX_test, ly_train, ly_test = train_test_split(data[l_features], data['Price'], test_size=0.2, random_state=42)\n",
        "\n",
        "linear_model = LinearRegression()\n",
        "\n",
        "# Train the model\n",
        "linear_model.fit(lX_train, ly_train)\n",
        "\n",
        "# Make predictions on the test set\n",
        "linear_predictions = linear_model.predict(lX_test)\n",
        "\n",
        "# Metrics\n",
        "linear_r_squared = r2_score(y_test, linear_predictions)\n",
        "linear_mae = mean_absolute_error(y_test, linear_predictions)\n",
        "linear_mse = mean_squared_error(y_test, linear_predictions)\n",
        "linear_rmse = np.sqrt(linear_mse)\n",
        "\n",
        "print(\"Linear Regression Model Evaluation:\")\n",
        "print(\"R-squared:\", linear_r_squared)\n",
        "print(\"Mean Absolute Error:\", linear_mae)\n",
        "print(\"Mean Squared Error:\", linear_mse)\n",
        "print(\"Root Mean Squared Error:\", linear_rmse)"
      ],
      "metadata": {
        "colab": {
          "base_uri": "https://localhost:8080/"
        },
        "id": "3pOpTvZm095r",
        "outputId": "a5f9693c-ebea-476a-f1ae-e3a64e83316e"
      },
      "execution_count": 11,
      "outputs": [
        {
          "output_type": "stream",
          "name": "stdout",
          "text": [
            "Linear Regression Model Evaluation:\n",
            "R-squared: 0.5902605968113104\n",
            "Mean Absolute Error: 49883.09272372648\n",
            "Mean Squared Error: 4278229654.378749\n",
            "Root Mean Squared Error: 65408.17727454839\n"
          ]
        }
      ]
    }
  ]
}