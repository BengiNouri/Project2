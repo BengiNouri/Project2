{
  "nbformat": 4,
  "nbformat_minor": 0,
  "metadata": {
    "colab": {
      "provenance": [],
      "gpuType": "T4",
      "mount_file_id": "1ELHKmU53kgG1KPeE9YVOiVi-c1DOBJIi",
      "authorship_tag": "ABX9TyMB7Fy85i6gxI4gbGp1h8V8",
      "include_colab_link": true
    },
    "kernelspec": {
      "name": "python3",
      "display_name": "Python 3"
    },
    "language_info": {
      "name": "python"
    },
    "accelerator": "GPU"
  },
  "cells": [
    {
      "cell_type": "markdown",
      "metadata": {
        "id": "view-in-github",
        "colab_type": "text"
      },
      "source": [
        "<a href=\"https://colab.research.google.com/github/BengiNouri/Project2/blob/main/opdateret_ml_bdh.ipynb\" target=\"_parent\"><img src=\"https://colab.research.google.com/assets/colab-badge.svg\" alt=\"Open In Colab\"/></a>"
      ]
    },
    {
      "cell_type": "code",
      "execution_count": 57,
      "metadata": {
        "id": "eaiG06CWtQlR"
      },
      "outputs": [],
      "source": [
        "import pandas as pd\n",
        "import numpy as np\n",
        "import matplotlib.pyplot as plt\n",
        "from sklearn.model_selection import train_test_split\n",
        "from sklearn.metrics import r2_score, mean_absolute_error, mean_squared_error\n",
        "from xgboost import XGBRegressor\n",
        "from sklearn.model_selection import GridSearchCV\n",
        "from sklearn.ensemble import RandomForestRegressor\n",
        "from sklearn.linear_model import LinearRegression\n",
        "from sklearn.tree import plot_tree"
      ]
    },
    {
      "cell_type": "code",
      "source": [
        "data = pd.read_csv('/content/drive/MyDrive/Colab Notebooks/fixed_car_data_dbh123.csv')"
      ],
      "metadata": {
        "id": "jjiOdB32toRm"
      },
      "execution_count": 36,
      "outputs": []
    },
    {
      "cell_type": "code",
      "source": [
        "columns_to_replace = ['GPS', 'Trailer Hitch', '4WD', 'Parkingsensor', 'Cruise Control', 'Antispin', 'ESP', 'El-SÃ¦der', 'Leather Interior', 'Glass Roof', 'Headup Display', 'Isofix', 'KlimaanlÃ¦g', 'Regnsensor', 'Soltag', 'Sports Package', 'Seatwarmer', 'Xenon Lights', 'Non-Smoker', 'One-Owner', 'Service OK', 'Nysynet', 'Demo Car', 'Partly Leather Interior', 'CVR/Engros', 'Full Leather', 'Adaptive Cruise Control']  # Specify the columns you want to replace values in\n",
        "data[columns_to_replace] = data[columns_to_replace].replace({'Yes': 1, 'No': 0})"
      ],
      "metadata": {
        "id": "zzlveml03z24"
      },
      "execution_count": 29,
      "outputs": []
    },
    {
      "cell_type": "code",
      "source": [
        "# Make vector of features for modelling\n",
        "selected_features = data.columns.tolist()\n",
        "# Remove the columns from our vector that are not meant to be used for modelling\n",
        "selected_features.remove('Price')\n",
        "selected_features.remove('Link')\n",
        "\n",
        "# Split into train & test set\n",
        "X_train, X_test, y_train, y_test = train_test_split(data[selected_features], data['Price'], test_size=0.2, random_state=42)\n"
      ],
      "metadata": {
        "id": "VnuxNDAtzKic"
      },
      "execution_count": 40,
      "outputs": []
    },
    {
      "cell_type": "code",
      "source": [
        "luxury_data = data[data['Segment'] == 'Economy']\n",
        "\n",
        "\n",
        "# Perform the train-test split on the luxury segment\n",
        "X_train, X_test, y_train, y_test = train_test_split(\n",
        "    luxury_data[selected_features],\n",
        "    luxury_data['Price'],\n",
        "    test_size=0.2,  # 20% of the data will be used for testing\n",
        "    random_state=42  # Ensures reproducibility of the split\n",
        ")"
      ],
      "metadata": {
        "id": "Hz9q8bABJZqK"
      },
      "execution_count": 51,
      "outputs": []
    },
    {
      "cell_type": "code",
      "source": [
        "selected_features.remove('Segment')"
      ],
      "metadata": {
        "colab": {
          "base_uri": "https://localhost:8080/",
          "height": 143
        },
        "id": "RNcszaazJk38",
        "outputId": "a535d914-0201-40b4-c37c-c1d08d151b0c"
      },
      "execution_count": 49,
      "outputs": [
        {
          "output_type": "error",
          "ename": "ValueError",
          "evalue": "list.remove(x): x not in list",
          "traceback": [
            "\u001b[0;31m---------------------------------------------------------------------------\u001b[0m",
            "\u001b[0;31mValueError\u001b[0m                                Traceback (most recent call last)",
            "\u001b[0;32m<ipython-input-49-ffcdc955f362>\u001b[0m in \u001b[0;36m<cell line: 1>\u001b[0;34m()\u001b[0m\n\u001b[0;32m----> 1\u001b[0;31m \u001b[0mselected_features\u001b[0m\u001b[0;34m.\u001b[0m\u001b[0mremove\u001b[0m\u001b[0;34m(\u001b[0m\u001b[0;34m'Segment'\u001b[0m\u001b[0;34m)\u001b[0m\u001b[0;34m\u001b[0m\u001b[0;34m\u001b[0m\u001b[0m\n\u001b[0m",
            "\u001b[0;31mValueError\u001b[0m: list.remove(x): x not in list"
          ]
        }
      ]
    },
    {
      "cell_type": "code",
      "source": [
        "# Baseline xgboosting without parameters # 6 sec\n",
        "xgb_model = XGBRegressor(n_estimators=600)\n",
        "xgb_model.fit(X_train, y_train)\n",
        "predictions_xgb = xgb_model.predict(X_test)\n",
        "\n",
        "#Metrics\n",
        "r_squared = r2_score(y_test, predictions_xgb)\n",
        "mae = mean_absolute_error(y_test, predictions_xgb)\n",
        "mse = mean_squared_error(y_test, predictions_xgb)\n",
        "rmse = np.sqrt(mse)\n",
        "#Print Metrics\n",
        "print(\"R-squared:\", r_squared)\n",
        "print(\"Mean Absolute Error:\", mae)\n",
        "print(\"Mean Squared Error:\", mse)\n",
        "print(\"Root Mean Squared Error:\", rmse)\n",
        "\n",
        "# Feature Importance\n",
        "feature_importances = xgb_model.feature_importances_\n",
        "feature_importance_df = pd.DataFrame({'Feature': X_train.columns, 'Importance': feature_importances})\n",
        "feature_importance_df = feature_importance_df.sort_values(by='Importance', ascending=False)\n",
        "N = 25  # Number of Features\n",
        "print(\"Top\", N, \"important features:\")\n",
        "print(feature_importance_df.head(N))"
      ],
      "metadata": {
        "colab": {
          "base_uri": "https://localhost:8080/"
        },
        "id": "Ym3QlTxqzcfi",
        "outputId": "c5aed441-f154-4082-ebc9-3dd643a632b4"
      },
      "execution_count": 52,
      "outputs": [
        {
          "output_type": "stream",
          "name": "stdout",
          "text": [
            "R-squared: 0.8242860654267278\n",
            "Mean Absolute Error: 11920.302825766834\n",
            "Mean Squared Error: 280374420.8160443\n",
            "Root Mean Squared Error: 16744.38475477807\n",
            "Top 25 important features:\n",
            "              Feature  Importance\n",
            "30               Year    0.058783\n",
            "31         Horsepower    0.036404\n",
            "60           Brand_VW    0.029301\n",
            "33         Brand_Audi    0.025404\n",
            "47     Brand_Mercedes    0.023198\n",
            "38        Brand_Dacia    0.022221\n",
            "62   Gear_Automatgear    0.017950\n",
            "432         Model_MX5    0.017560\n",
            "36     Brand_CitroÃ«n    0.016765\n",
            "34          Brand_BMW    0.016601\n",
            "652  Fuel_Type_Benzin    0.013747\n",
            "56        Brand_Skoda    0.011050\n",
            "59       Brand_Toyota    0.010186\n",
            "51         Brand_Opel    0.009557\n",
            "288      Model_Dokker    0.009317\n",
            "548    Model_Sprinter    0.008938\n",
            "41        Brand_Honda    0.008910\n",
            "203          Model_C1    0.008622\n",
            "356       Model_GLC43    0.008498\n",
            "14        KlimaanlÃ¦g    0.008250\n",
            "35    Brand_Chevrolet    0.007785\n",
            "122        Model_500C    0.007500\n",
            "93         Model_3000    0.007419\n",
            "324      Model_Expert    0.006882\n",
            "21         Non-Smoker    0.006782\n"
          ]
        }
      ]
    },
    {
      "cell_type": "code",
      "source": [
        "# XGBoosting with hyperparameters # 32 min\n",
        "\n",
        "# Defining grid\n",
        "param_grid = {\n",
        "        'min_child_weight': [5, 10],\n",
        "        'gamma': [0, 2],\n",
        "        'subsample': [0.6, 1.0],\n",
        "        'colsample_bytree': [0.6, 1.0],\n",
        "        'max_depth': [3, 8, 12]\n",
        "        }\n",
        "\n",
        "xgb_model = XGBRegressor(n_estimators=600)\n",
        "\n",
        "grid_search = GridSearchCV(estimator=xgb_model, param_grid=param_grid, cv=5, scoring='neg_root_mean_squared_error', verbose=0)\n",
        "grid_search.fit(X_train, y_train)\n",
        "print(\"Best Parameters:\", grid_search.best_params_)\n",
        "\n",
        "best_model = grid_search.best_estimator_\n",
        "predictions = best_model.predict(X_test)\n",
        "\n",
        "#Metrics\n",
        "r_squared = r2_score(y_test, predictions)\n",
        "mae = mean_absolute_error(y_test, predictions)\n",
        "mse = mean_squared_error(y_test, predictions)\n",
        "rmse = np.sqrt(mse)\n",
        "#Print Metrics\n",
        "print(\"R-squared:\", r_squared)\n",
        "print(\"Mean Absolute Error:\", mae)\n",
        "print(\"Mean Squared Error:\", mse)\n",
        "print(\"Root Mean Squared Error:\", rmse)\n",
        "\n",
        "# Feature Importance\n",
        "feature_importances = best_model.feature_importances_\n",
        "feature_importance_df = pd.DataFrame({'Feature': X_train.columns, 'Importance': feature_importances})\n",
        "feature_importance_df = feature_importance_df.sort_values(by='Importance', ascending=False)\n",
        "N = 25  # Number of Features\n",
        "print(\"Top\", N, \"important features:\")\n",
        "print(feature_importance_df.head(N))"
      ],
      "metadata": {
        "colab": {
          "base_uri": "https://localhost:8080/"
        },
        "id": "wYWHc4mEz7AO",
        "outputId": "34620298-4c7a-4599-d98d-2b3a174c4b0f"
      },
      "execution_count": null,
      "outputs": [
        {
          "output_type": "stream",
          "name": "stdout",
          "text": [
            "Best Parameters: {'colsample_bytree': 0.6, 'gamma': 0, 'max_depth': 8, 'min_child_weight': 10, 'subsample': 1.0}\n",
            "R-squared: 0.8611779330398579\n",
            "Mean Absolute Error: 26771.68505618751\n",
            "Mean Squared Error: 1791975842.1722767\n",
            "Root Mean Squared Error: 42331.73563855227\n",
            "Top 25 important features:\n",
            "                     Feature  Importance\n",
            "60          Gear_Automatgear    0.271548\n",
            "61         Gear_Manuelt gear    0.083528\n",
            "52             Brand_Porsche    0.024937\n",
            "30                Horsepower    0.023986\n",
            "44                  Brand_MG    0.017475\n",
            "46            Brand_Mercedes    0.017227\n",
            "28   Adaptive Cruise Control    0.015451\n",
            "0                  KM Driven    0.014002\n",
            "64          Fuel_Type_Hybrid    0.013301\n",
            "4                        4WD    0.013149\n",
            "17            Sports Package    0.013066\n",
            "634                 Model_i3    0.012773\n",
            "609               Model_XC60    0.011924\n",
            "180                 Model_A6    0.011682\n",
            "50                Brand_Opel    0.011072\n",
            "198             Model_Arteon    0.010682\n",
            "19              Xenon Lights    0.010324\n",
            "29                      Year    0.010079\n",
            "63          Fuel_Type_Diesel    0.009001\n",
            "12            Headup Display    0.007800\n",
            "32                Brand_Audi    0.007752\n",
            "465             Model_Optima    0.007334\n",
            "58                  Brand_VW    0.007090\n",
            "129               Model_5008    0.006417\n",
            "577             Model_Touran    0.006158\n"
          ]
        }
      ]
    },
    {
      "cell_type": "code",
      "source": [
        "# Random Forest # 2 min\n",
        "rf_model = RandomForestRegressor(n_estimators=600, random_state=42)\n",
        "\n",
        "# Train the model\n",
        "rf_model.fit(X_train, y_train)\n",
        "\n",
        "# Make predictions on the test set\n",
        "rpredictions = rf_model.predict(X_test)\n",
        "\n",
        "# Calculate Mean Squared Error\n",
        "rr_squared = r2_score(y_test, rpredictions)\n",
        "rmae = mean_absolute_error(y_test, rpredictions)\n",
        "rmse = mean_squared_error(y_test, rpredictions)\n",
        "rrmse = np.sqrt(rmse)\n",
        "\n",
        "print(\"Random Forest Regression Model Evaluation:\")\n",
        "print(\"R-squared:\", rr_squared)\n",
        "print(\"Mean Absolute Error:\", rmae)\n",
        "print(\"Mean Squared Error:\", rmse)\n",
        "print(\"Root Mean Squared Error:\", rrmse)\n",
        "\n",
        "# Feature Importance For Random Forest\n",
        "feature_importances = rf_model.feature_importances_\n",
        "feature_importance_df = pd.DataFrame({'Feature': X_train.columns, 'Importance': feature_importances})\n",
        "feature_importance_df = feature_importance_df.sort_values(by='Importance', ascending=False)\n",
        "N = 25  # Number of Features\n",
        "print(\"Top\", N, \"important features:\")\n",
        "print(feature_importance_df.head(N))\n",
        "\n",
        "\n",
        "# Assuming rf_model is your trained RandomForestRegressor\n",
        "# Extract one tree from the forest\n",
        "tree = rf_model.estimators_[0]\n",
        "\n",
        "# Plot the tree\n",
        "plt.figure(figsize=(20,10))  # Set the figure size (width, height) in inches\n",
        "plot_tree(tree, filled=True, feature_names=X_train.columns, max_depth=3, precision=2, proportion=True)\n",
        "plt.title('Decision Tree from Random Forest')\n",
        "plt.show()\n"
      ],
      "metadata": {
        "colab": {
          "base_uri": "https://localhost:8080/"
        },
        "id": "cPeMDsp-FwaA",
        "outputId": "5ec9648c-5c63-487b-feb9-0d4aeacc6664"
      },
      "execution_count": 55,
      "outputs": [
        {
          "output_type": "stream",
          "name": "stdout",
          "text": [
            "Random Forest Regression Model Evaluation:\n",
            "R-squared: 0.8026985768795204\n",
            "Mean Absolute Error: 12601.342038245879\n",
            "Mean Squared Error: 314820064.60061467\n",
            "Root Mean Squared Error: 17743.169519581745\n",
            "Top 25 important features:\n",
            "               Feature  Importance\n",
            "30                Year    0.459931\n",
            "31          Horsepower    0.220019\n",
            "0            KM Driven    0.111657\n",
            "1                 Km/L    0.021415\n",
            "3        Trailer Hitch    0.007051\n",
            "60            Brand_VW    0.006576\n",
            "5        Parkingsensor    0.006195\n",
            "13              Isofix    0.006039\n",
            "62    Gear_Automatgear    0.006011\n",
            "63   Gear_Manuelt gear    0.005850\n",
            "14         KlimaanlÃ¦g    0.005084\n",
            "6       Cruise Control    0.004221\n",
            "28        Full Leather    0.003989\n",
            "25            Demo Car    0.003942\n",
            "47      Brand_Mercedes    0.003637\n",
            "24             Nysynet    0.003561\n",
            "2                  GPS    0.003544\n",
            "8                  ESP    0.003436\n",
            "7             Antispin    0.003377\n",
            "16          Regnsensor    0.003104\n",
            "9            El-SÃ¦der    0.002916\n",
            "19          Seatwarmer    0.002817\n",
            "22           One-Owner    0.002781\n",
            "652   Fuel_Type_Benzin    0.002582\n",
            "21          Non-Smoker    0.002569\n"
          ]
        }
      ]
    },
    {
      "cell_type": "code",
      "source": [
        "# Linear regressionsmodel # 1 sec\n",
        "l_features = ['KM Driven', 'Year', 'Horsepower', 'Km/L', 'Gear_Automatgear', 'Fuel_Type_Diesel', 'Adaptive Cruise Control']\n",
        "lX_train, lX_test, ly_train, ly_test = train_test_split(data[l_features], data['Price'], test_size=0.2, random_state=42)\n",
        "\n",
        "linear_model = LinearRegression()\n",
        "\n",
        "# Train the model\n",
        "linear_model.fit(lX_train, ly_train)\n",
        "\n",
        "# Make predictions on the test set\n",
        "linear_predictions = linear_model.predict(lX_test)\n",
        "\n",
        "# Metrics\n",
        "linear_r_squared = r2_score(y_test, linear_predictions)\n",
        "linear_mae = mean_absolute_error(y_test, linear_predictions)\n",
        "linear_mse = mean_squared_error(y_test, linear_predictions)\n",
        "linear_rmse = np.sqrt(linear_mse)\n",
        "\n",
        "print(\"Linear Regression Model Evaluation:\")\n",
        "print(\"R-squared:\", linear_r_squared)\n",
        "print(\"Mean Absolute Error:\", linear_mae)\n",
        "print(\"Mean Squared Error:\", linear_mse)\n",
        "print(\"Root Mean Squared Error:\", linear_rmse)"
      ],
      "metadata": {
        "id": "3pOpTvZm095r"
      },
      "execution_count": null,
      "outputs": []
    }
  ]
}