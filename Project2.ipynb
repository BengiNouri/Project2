{
 "cells": [
  {
   "cell_type": "code",
   "execution_count": 7,
   "metadata": {},
   "outputs": [],
   "source": [
    "# Loading the data\n",
    "cardata = pd.read_csv(\"fuel_data_el.csv\")\n"
   ]
  },
  {
   "cell_type": "code",
   "execution_count": 8,
   "metadata": {},
   "outputs": [
    {
     "name": "stdout",
     "output_type": "stream",
     "text": [
      "Variant\n",
      "-                  562\n",
      "Pro Performance    348\n",
      "AMG line           137\n",
      "Long Range          92\n",
      "Pro                 75\n",
      "                  ... \n",
      "Clever               1\n",
      "Abarth               1\n",
      "Essentiel            1\n",
      "Passion              1\n",
      "United               1\n",
      "Name: count, Length: 121, dtype: int64\n",
      "             Variant  Count\n",
      "0                  -    562\n",
      "1    Pro Performance    348\n",
      "2           AMG line    137\n",
      "3         Long Range     92\n",
      "4                Pro     75\n",
      "..               ...    ...\n",
      "116           Clever      1\n",
      "117           Abarth      1\n",
      "118        Essentiel      1\n",
      "119          Passion      1\n",
      "120           United      1\n",
      "\n",
      "[121 rows x 2 columns]\n"
     ]
    }
   ],
   "source": [
    "import pandas as pd\n",
    "\n",
    "# Load the data from a CSV file or another source\n",
    "# Assuming your data is in a CSV file named 'data.csv'\n",
    "cardata = pd.read_csv(\"fuel_data_el.csv\")\n",
    "\n",
    "# Assuming the column of interest is named 'Variant'\n",
    "variant_counts = cardata['Variant'].value_counts()\n",
    "\n",
    "# Printing the count of each category in the 'Variant' column\n",
    "print(variant_counts)\n",
    "\n",
    "# Optionally, create a table for better visualization\n",
    "table = pd.DataFrame(variant_counts)\n",
    "table.reset_index(inplace=True)\n",
    "table.columns = ['Variant', 'Count']\n",
    "print(table)\n"
   ]
  },
  {
   "cell_type": "code",
   "execution_count": 9,
   "metadata": {},
   "outputs": [
    {
     "name": "stdout",
     "output_type": "stream",
     "text": [
      "Index(['Brand', 'Model', 'KM Driven', 'Km/L', 'Range (Electric)', 'Gear',\n",
      "       'Motor Specs', 'Price', 'GPS', 'Trailer Hitch', '4WD', 'Parkingsensor',\n",
      "       'Cruise Control', 'Antispin', 'ESP', 'El-Sæder', 'Leather Interior',\n",
      "       'Glass Roof', 'Headup Display', 'Isofix', 'Klimaanlæg', 'Regnsensor',\n",
      "       'Soltag', 'Sports Package', 'Seatwarmer', 'Xenon Lights', 'Non-Smoker',\n",
      "       'One-Owner', 'Service OK', 'Nysynet', 'Demo Car',\n",
      "       'Partly Leather Interior', 'CVR/Engros', 'Full Leather',\n",
      "       'Adaptive Cruise Control', 'Link', 'Year', 'Fuel_Type', 'Horsepower'],\n",
      "      dtype='object')\n"
     ]
    }
   ],
   "source": [
    "# Drop the 'Variant' column from the DataFrame\n",
    "cardata = cardata.drop('Variant', axis=1)\n",
    "# Check the remaining columns in the DataFrame\n",
    "print(cardata.columns)"
   ]
  },
  {
   "cell_type": "code",
   "execution_count": 10,
   "metadata": {},
   "outputs": [
    {
     "name": "stdout",
     "output_type": "stream",
     "text": [
      "Km/L\n",
      "NaN     1255\n",
      "17.1     144\n",
      "15.5     112\n",
      "14.4     102\n",
      "15.3      94\n",
      "        ... \n",
      "58.3       1\n",
      "87.0       1\n",
      "73.0       1\n",
      "19.6       1\n",
      "16.2       1\n",
      "Name: count, Length: 78, dtype: int64\n"
     ]
    }
   ],
   "source": [
    "# Count occurrences of each value in the 'Km/L' column including NaN values\n",
    "km_per_l_counts = cardata['Km/L'].value_counts(dropna=False)\n",
    "\n",
    "# Print the count of each category in the 'Km/L' column\n",
    "print(km_per_l_counts)"
   ]
  },
  {
   "cell_type": "code",
   "execution_count": 11,
   "metadata": {},
   "outputs": [
    {
     "name": "stdout",
     "output_type": "stream",
     "text": [
      "Range (Electric)\n",
      "NaN       197\n",
      "424 Km     89\n",
      "537 Km     71\n",
      "429 Km     56\n",
      "232 Km     50\n",
      "         ... \n",
      "635 Km      1\n",
      "339 Km      1\n",
      "150 Km      1\n",
      "319 Km      1\n",
      "545 Km      1\n",
      "Name: count, Length: 250, dtype: int64\n"
     ]
    }
   ],
   "source": [
    "# If 'range (Electric)' is correctly listed among the columns, count its values\n",
    "if 'Range (Electric)' in cardata.columns:\n",
    "    range_counts = cardata['Range (Electric)'].value_counts(dropna=False)\n",
    "    print(range_counts)\n",
    "else:\n",
    "    print(\"Column 'Range (Electric)' does not exist in DataFrame.\")"
   ]
  },
  {
   "cell_type": "code",
   "execution_count": 12,
   "metadata": {},
   "outputs": [
    {
     "name": "stdout",
     "output_type": "stream",
     "text": [
      "     Brand    Model       Km/L  Range (Electric)\n",
      "0     Ford  Mustang  18.056250        537.379310\n",
      "1  Hyundai    Ioniq  15.618095        454.729167\n",
      "2  Hyundai    Ioniq  15.618095        454.729167\n",
      "3  Hyundai    Ioniq  15.618095        454.729167\n",
      "4  Hyundai     Kona  15.618095        454.729167\n"
     ]
    }
   ],
   "source": [
    "import pandas as pd\n",
    "import numpy as np\n",
    "\n",
    "# Convert 'Range (Electric)' to numeric, assuming it might be stored as string with 'Km' suffix\n",
    "cardata['Range (Electric)'] = pd.to_numeric(cardata['Range (Electric)'].str.replace(' Km', ''), errors='coerce')\n",
    "\n",
    "# Calculate the mean of 'Km/L' and 'Range (Electric)' for each brand\n",
    "km_per_l_mean = cardata.groupby('Brand')['Km/L'].transform('mean')\n",
    "range_electric_mean = cardata.groupby('Brand')['Range (Electric)'].transform('mean')\n",
    "\n",
    "# Replace NaN values with the mean of their respective brands\n",
    "cardata['Km/L'] = cardata['Km/L'].fillna(km_per_l_mean)\n",
    "cardata['Range (Electric)'] = cardata['Range (Electric)'].fillna(range_electric_mean)\n",
    "\n",
    "# Since the mean might also be NaN if all values are NaN, you might need to handle these cases\n",
    "# Optionally, replace remaining NaNs with a global mean if any brand mean is NaN\n",
    "cardata['Km/L'] = cardata['Km/L'].fillna(cardata['Km/L'].mean())\n",
    "cardata['Range (Electric)'] = cardata['Range (Electric)'].fillna(cardata['Range (Electric)'].mean())\n",
    "\n",
    "\n",
    "# Print some of the data to verify\n",
    "print(cardata[['Brand', 'Model', 'Km/L', 'Range (Electric)']].head())\n"
   ]
  },
  {
   "cell_type": "code",
   "execution_count": 13,
   "metadata": {},
   "outputs": [
    {
     "name": "stdout",
     "output_type": "stream",
     "text": [
      "     Brand    Model  Km/L  Range (Electric)\n",
      "0     Ford  Mustang  18.0             537.0\n",
      "1  Hyundai    Ioniq  16.0             455.0\n",
      "2  Hyundai    Ioniq  16.0             455.0\n",
      "3  Hyundai    Ioniq  16.0             455.0\n",
      "4  Hyundai     Kona  16.0             455.0\n"
     ]
    }
   ],
   "source": [
    "# Assuming the DataFrame 'cardata' is already loaded and contains the imputed values\n",
    "\n",
    "# Round 'Km/L' and 'Range (Electric)' to no decimal places\n",
    "cardata['Km/L'] = cardata['Km/L'].round(0)\n",
    "cardata['Range (Electric)'] = cardata['Range (Electric)'].round(0)\n",
    "# Print some of the data to verify the rounding\n",
    "print(cardata[['Brand', 'Model', 'Km/L', 'Range (Electric)']].head())"
   ]
  },
  {
   "cell_type": "code",
   "execution_count": 14,
   "metadata": {},
   "outputs": [
    {
     "name": "stdout",
     "output_type": "stream",
     "text": [
      "<class 'pandas.core.frame.DataFrame'>\n",
      "RangeIndex: 2890 entries, 0 to 2889\n",
      "Data columns (total 39 columns):\n",
      " #   Column                   Non-Null Count  Dtype  \n",
      "---  ------                   --------------  -----  \n",
      " 0   Brand                    2890 non-null   object \n",
      " 1   Model                    2890 non-null   object \n",
      " 2   KM Driven                2890 non-null   float64\n",
      " 3   Km/L                     2890 non-null   float64\n",
      " 4   Range (Electric)         2890 non-null   float64\n",
      " 5   Gear                     2890 non-null   object \n",
      " 6   Motor Specs              2890 non-null   object \n",
      " 7   Price                    2890 non-null   float64\n",
      " 8   GPS                      2890 non-null   object \n",
      " 9   Trailer Hitch            2890 non-null   object \n",
      " 10  4WD                      2890 non-null   object \n",
      " 11  Parkingsensor            2890 non-null   object \n",
      " 12  Cruise Control           2890 non-null   object \n",
      " 13  Antispin                 2890 non-null   object \n",
      " 14  ESP                      2890 non-null   object \n",
      " 15  El-Sæder                 2890 non-null   object \n",
      " 16  Leather Interior         2890 non-null   object \n",
      " 17  Glass Roof               2890 non-null   object \n",
      " 18  Headup Display           2890 non-null   object \n",
      " 19  Isofix                   2890 non-null   object \n",
      " 20  Klimaanlæg               2890 non-null   object \n",
      " 21  Regnsensor               2890 non-null   object \n",
      " 22  Soltag                   2890 non-null   object \n",
      " 23  Sports Package           2890 non-null   object \n",
      " 24  Seatwarmer               2890 non-null   object \n",
      " 25  Xenon Lights             2890 non-null   object \n",
      " 26  Non-Smoker               2890 non-null   object \n",
      " 27  One-Owner                2890 non-null   object \n",
      " 28  Service OK               2890 non-null   object \n",
      " 29  Nysynet                  2890 non-null   object \n",
      " 30  Demo Car                 2890 non-null   object \n",
      " 31  Partly Leather Interior  2890 non-null   object \n",
      " 32  CVR/Engros               2890 non-null   object \n",
      " 33  Full Leather             2890 non-null   object \n",
      " 34  Adaptive Cruise Control  2890 non-null   object \n",
      " 35  Link                     2890 non-null   object \n",
      " 36  Year                     2890 non-null   int64  \n",
      " 37  Fuel_Type                2890 non-null   object \n",
      " 38  Horsepower               2818 non-null   float64\n",
      "dtypes: float64(5), int64(1), object(33)\n",
      "memory usage: 880.7+ KB\n"
     ]
    }
   ],
   "source": [
    "# Display the information about the DataFrame\n",
    "cardata.info()"
   ]
  },
  {
   "cell_type": "code",
   "execution_count": 15,
   "metadata": {},
   "outputs": [
    {
     "name": "stdout",
     "output_type": "stream",
     "text": [
      "Brand                      category\n",
      "Model                      category\n",
      "KM Driven                   float64\n",
      "Km/L                        float64\n",
      "Range (Electric)            float64\n",
      "Gear                       category\n",
      "Motor Specs                category\n",
      "Price                       float64\n",
      "GPS                        category\n",
      "Trailer Hitch              category\n",
      "4WD                        category\n",
      "Parkingsensor              category\n",
      "Cruise Control             category\n",
      "Antispin                   category\n",
      "ESP                        category\n",
      "El-Sæder                   category\n",
      "Leather Interior           category\n",
      "Glass Roof                 category\n",
      "Headup Display             category\n",
      "Isofix                     category\n",
      "Klimaanlæg                 category\n",
      "Regnsensor                 category\n",
      "Soltag                     category\n",
      "Sports Package             category\n",
      "Seatwarmer                 category\n",
      "Xenon Lights               category\n",
      "Non-Smoker                 category\n",
      "One-Owner                  category\n",
      "Service OK                 category\n",
      "Nysynet                    category\n",
      "Demo Car                   category\n",
      "Partly Leather Interior    category\n",
      "CVR/Engros                 category\n",
      "Full Leather               category\n",
      "Adaptive Cruise Control    category\n",
      "Link                       category\n",
      "Year                          int64\n",
      "Fuel_Type                  category\n",
      "Horsepower                  float64\n",
      "dtype: object\n"
     ]
    }
   ],
   "source": [
    "import pandas as pd\n",
    "\n",
    "# Convert numeric columns\n",
    "# Assuming 'KM Driven', 'Km/L', 'Range (Electric)', 'Price', and 'Horsepower' should be numeric\n",
    "numeric_columns = ['KM Driven', 'Km/L', 'Range (Electric)', 'Price', 'Horsepower']\n",
    "for col in numeric_columns:\n",
    "    cardata[col] = pd.to_numeric(cardata[col], errors='coerce')  # 'coerce' converts errors to NaN\n",
    "\n",
    "# Convert factor-like columns\n",
    "# Assuming all other object type columns should be treated as categorical\n",
    "factor_columns = [col for col in cardata.columns if cardata[col].dtype == 'object']\n",
    "for col in factor_columns:\n",
    "    cardata[col] = cardata[col].astype('category')\n",
    "\n",
    "# Verify changes\n",
    "print(cardata.dtypes)\n"
   ]
  },
  {
   "cell_type": "code",
   "execution_count": 16,
   "metadata": {},
   "outputs": [
    {
     "name": "stderr",
     "output_type": "stream",
     "text": [
      "C:\\Users\\sajad\\AppData\\Local\\Temp\\ipykernel_12820\\3179350803.py:3: FutureWarning: Downcasting behavior in `replace` is deprecated and will be removed in a future version. To retain the old behavior, explicitly call `result.infer_objects(copy=False)`. To opt-in to the future behavior, set `pd.set_option('future.no_silent_downcasting', True)`\n",
      "  cardata[columns_to_replace] = cardata[columns_to_replace].replace({'Yes': 1, 'No': 0})\n",
      "C:\\Users\\sajad\\AppData\\Local\\Temp\\ipykernel_12820\\3179350803.py:3: FutureWarning: The behavior of Series.replace (and DataFrame.replace) with CategoricalDtype is deprecated. In a future version, replace will only be used for cases that preserve the categories. To change the categories, use ser.cat.rename_categories instead.\n",
      "  cardata[columns_to_replace] = cardata[columns_to_replace].replace({'Yes': 1, 'No': 0})\n",
      "C:\\Users\\sajad\\AppData\\Local\\Temp\\ipykernel_12820\\3179350803.py:3: FutureWarning: Downcasting behavior in `replace` is deprecated and will be removed in a future version. To retain the old behavior, explicitly call `result.infer_objects(copy=False)`. To opt-in to the future behavior, set `pd.set_option('future.no_silent_downcasting', True)`\n",
      "  cardata[columns_to_replace] = cardata[columns_to_replace].replace({'Yes': 1, 'No': 0})\n",
      "C:\\Users\\sajad\\AppData\\Local\\Temp\\ipykernel_12820\\3179350803.py:3: FutureWarning: The behavior of Series.replace (and DataFrame.replace) with CategoricalDtype is deprecated. In a future version, replace will only be used for cases that preserve the categories. To change the categories, use ser.cat.rename_categories instead.\n",
      "  cardata[columns_to_replace] = cardata[columns_to_replace].replace({'Yes': 1, 'No': 0})\n",
      "C:\\Users\\sajad\\AppData\\Local\\Temp\\ipykernel_12820\\3179350803.py:3: FutureWarning: Downcasting behavior in `replace` is deprecated and will be removed in a future version. To retain the old behavior, explicitly call `result.infer_objects(copy=False)`. To opt-in to the future behavior, set `pd.set_option('future.no_silent_downcasting', True)`\n",
      "  cardata[columns_to_replace] = cardata[columns_to_replace].replace({'Yes': 1, 'No': 0})\n",
      "C:\\Users\\sajad\\AppData\\Local\\Temp\\ipykernel_12820\\3179350803.py:3: FutureWarning: The behavior of Series.replace (and DataFrame.replace) with CategoricalDtype is deprecated. In a future version, replace will only be used for cases that preserve the categories. To change the categories, use ser.cat.rename_categories instead.\n",
      "  cardata[columns_to_replace] = cardata[columns_to_replace].replace({'Yes': 1, 'No': 0})\n",
      "C:\\Users\\sajad\\AppData\\Local\\Temp\\ipykernel_12820\\3179350803.py:3: FutureWarning: Downcasting behavior in `replace` is deprecated and will be removed in a future version. To retain the old behavior, explicitly call `result.infer_objects(copy=False)`. To opt-in to the future behavior, set `pd.set_option('future.no_silent_downcasting', True)`\n",
      "  cardata[columns_to_replace] = cardata[columns_to_replace].replace({'Yes': 1, 'No': 0})\n",
      "C:\\Users\\sajad\\AppData\\Local\\Temp\\ipykernel_12820\\3179350803.py:3: FutureWarning: The behavior of Series.replace (and DataFrame.replace) with CategoricalDtype is deprecated. In a future version, replace will only be used for cases that preserve the categories. To change the categories, use ser.cat.rename_categories instead.\n",
      "  cardata[columns_to_replace] = cardata[columns_to_replace].replace({'Yes': 1, 'No': 0})\n",
      "C:\\Users\\sajad\\AppData\\Local\\Temp\\ipykernel_12820\\3179350803.py:3: FutureWarning: Downcasting behavior in `replace` is deprecated and will be removed in a future version. To retain the old behavior, explicitly call `result.infer_objects(copy=False)`. To opt-in to the future behavior, set `pd.set_option('future.no_silent_downcasting', True)`\n",
      "  cardata[columns_to_replace] = cardata[columns_to_replace].replace({'Yes': 1, 'No': 0})\n",
      "C:\\Users\\sajad\\AppData\\Local\\Temp\\ipykernel_12820\\3179350803.py:3: FutureWarning: The behavior of Series.replace (and DataFrame.replace) with CategoricalDtype is deprecated. In a future version, replace will only be used for cases that preserve the categories. To change the categories, use ser.cat.rename_categories instead.\n",
      "  cardata[columns_to_replace] = cardata[columns_to_replace].replace({'Yes': 1, 'No': 0})\n",
      "C:\\Users\\sajad\\AppData\\Local\\Temp\\ipykernel_12820\\3179350803.py:3: FutureWarning: Downcasting behavior in `replace` is deprecated and will be removed in a future version. To retain the old behavior, explicitly call `result.infer_objects(copy=False)`. To opt-in to the future behavior, set `pd.set_option('future.no_silent_downcasting', True)`\n",
      "  cardata[columns_to_replace] = cardata[columns_to_replace].replace({'Yes': 1, 'No': 0})\n",
      "C:\\Users\\sajad\\AppData\\Local\\Temp\\ipykernel_12820\\3179350803.py:3: FutureWarning: The behavior of Series.replace (and DataFrame.replace) with CategoricalDtype is deprecated. In a future version, replace will only be used for cases that preserve the categories. To change the categories, use ser.cat.rename_categories instead.\n",
      "  cardata[columns_to_replace] = cardata[columns_to_replace].replace({'Yes': 1, 'No': 0})\n",
      "C:\\Users\\sajad\\AppData\\Local\\Temp\\ipykernel_12820\\3179350803.py:3: FutureWarning: Downcasting behavior in `replace` is deprecated and will be removed in a future version. To retain the old behavior, explicitly call `result.infer_objects(copy=False)`. To opt-in to the future behavior, set `pd.set_option('future.no_silent_downcasting', True)`\n",
      "  cardata[columns_to_replace] = cardata[columns_to_replace].replace({'Yes': 1, 'No': 0})\n",
      "C:\\Users\\sajad\\AppData\\Local\\Temp\\ipykernel_12820\\3179350803.py:3: FutureWarning: The behavior of Series.replace (and DataFrame.replace) with CategoricalDtype is deprecated. In a future version, replace will only be used for cases that preserve the categories. To change the categories, use ser.cat.rename_categories instead.\n",
      "  cardata[columns_to_replace] = cardata[columns_to_replace].replace({'Yes': 1, 'No': 0})\n",
      "C:\\Users\\sajad\\AppData\\Local\\Temp\\ipykernel_12820\\3179350803.py:3: FutureWarning: Downcasting behavior in `replace` is deprecated and will be removed in a future version. To retain the old behavior, explicitly call `result.infer_objects(copy=False)`. To opt-in to the future behavior, set `pd.set_option('future.no_silent_downcasting', True)`\n",
      "  cardata[columns_to_replace] = cardata[columns_to_replace].replace({'Yes': 1, 'No': 0})\n",
      "C:\\Users\\sajad\\AppData\\Local\\Temp\\ipykernel_12820\\3179350803.py:3: FutureWarning: The behavior of Series.replace (and DataFrame.replace) with CategoricalDtype is deprecated. In a future version, replace will only be used for cases that preserve the categories. To change the categories, use ser.cat.rename_categories instead.\n",
      "  cardata[columns_to_replace] = cardata[columns_to_replace].replace({'Yes': 1, 'No': 0})\n",
      "C:\\Users\\sajad\\AppData\\Local\\Temp\\ipykernel_12820\\3179350803.py:3: FutureWarning: Downcasting behavior in `replace` is deprecated and will be removed in a future version. To retain the old behavior, explicitly call `result.infer_objects(copy=False)`. To opt-in to the future behavior, set `pd.set_option('future.no_silent_downcasting', True)`\n",
      "  cardata[columns_to_replace] = cardata[columns_to_replace].replace({'Yes': 1, 'No': 0})\n",
      "C:\\Users\\sajad\\AppData\\Local\\Temp\\ipykernel_12820\\3179350803.py:3: FutureWarning: The behavior of Series.replace (and DataFrame.replace) with CategoricalDtype is deprecated. In a future version, replace will only be used for cases that preserve the categories. To change the categories, use ser.cat.rename_categories instead.\n",
      "  cardata[columns_to_replace] = cardata[columns_to_replace].replace({'Yes': 1, 'No': 0})\n",
      "C:\\Users\\sajad\\AppData\\Local\\Temp\\ipykernel_12820\\3179350803.py:3: FutureWarning: Downcasting behavior in `replace` is deprecated and will be removed in a future version. To retain the old behavior, explicitly call `result.infer_objects(copy=False)`. To opt-in to the future behavior, set `pd.set_option('future.no_silent_downcasting', True)`\n",
      "  cardata[columns_to_replace] = cardata[columns_to_replace].replace({'Yes': 1, 'No': 0})\n",
      "C:\\Users\\sajad\\AppData\\Local\\Temp\\ipykernel_12820\\3179350803.py:3: FutureWarning: The behavior of Series.replace (and DataFrame.replace) with CategoricalDtype is deprecated. In a future version, replace will only be used for cases that preserve the categories. To change the categories, use ser.cat.rename_categories instead.\n",
      "  cardata[columns_to_replace] = cardata[columns_to_replace].replace({'Yes': 1, 'No': 0})\n",
      "C:\\Users\\sajad\\AppData\\Local\\Temp\\ipykernel_12820\\3179350803.py:3: FutureWarning: Downcasting behavior in `replace` is deprecated and will be removed in a future version. To retain the old behavior, explicitly call `result.infer_objects(copy=False)`. To opt-in to the future behavior, set `pd.set_option('future.no_silent_downcasting', True)`\n",
      "  cardata[columns_to_replace] = cardata[columns_to_replace].replace({'Yes': 1, 'No': 0})\n",
      "C:\\Users\\sajad\\AppData\\Local\\Temp\\ipykernel_12820\\3179350803.py:3: FutureWarning: The behavior of Series.replace (and DataFrame.replace) with CategoricalDtype is deprecated. In a future version, replace will only be used for cases that preserve the categories. To change the categories, use ser.cat.rename_categories instead.\n",
      "  cardata[columns_to_replace] = cardata[columns_to_replace].replace({'Yes': 1, 'No': 0})\n",
      "C:\\Users\\sajad\\AppData\\Local\\Temp\\ipykernel_12820\\3179350803.py:3: FutureWarning: Downcasting behavior in `replace` is deprecated and will be removed in a future version. To retain the old behavior, explicitly call `result.infer_objects(copy=False)`. To opt-in to the future behavior, set `pd.set_option('future.no_silent_downcasting', True)`\n",
      "  cardata[columns_to_replace] = cardata[columns_to_replace].replace({'Yes': 1, 'No': 0})\n",
      "C:\\Users\\sajad\\AppData\\Local\\Temp\\ipykernel_12820\\3179350803.py:3: FutureWarning: The behavior of Series.replace (and DataFrame.replace) with CategoricalDtype is deprecated. In a future version, replace will only be used for cases that preserve the categories. To change the categories, use ser.cat.rename_categories instead.\n",
      "  cardata[columns_to_replace] = cardata[columns_to_replace].replace({'Yes': 1, 'No': 0})\n",
      "C:\\Users\\sajad\\AppData\\Local\\Temp\\ipykernel_12820\\3179350803.py:3: FutureWarning: Downcasting behavior in `replace` is deprecated and will be removed in a future version. To retain the old behavior, explicitly call `result.infer_objects(copy=False)`. To opt-in to the future behavior, set `pd.set_option('future.no_silent_downcasting', True)`\n",
      "  cardata[columns_to_replace] = cardata[columns_to_replace].replace({'Yes': 1, 'No': 0})\n",
      "C:\\Users\\sajad\\AppData\\Local\\Temp\\ipykernel_12820\\3179350803.py:3: FutureWarning: The behavior of Series.replace (and DataFrame.replace) with CategoricalDtype is deprecated. In a future version, replace will only be used for cases that preserve the categories. To change the categories, use ser.cat.rename_categories instead.\n",
      "  cardata[columns_to_replace] = cardata[columns_to_replace].replace({'Yes': 1, 'No': 0})\n",
      "C:\\Users\\sajad\\AppData\\Local\\Temp\\ipykernel_12820\\3179350803.py:3: FutureWarning: Downcasting behavior in `replace` is deprecated and will be removed in a future version. To retain the old behavior, explicitly call `result.infer_objects(copy=False)`. To opt-in to the future behavior, set `pd.set_option('future.no_silent_downcasting', True)`\n",
      "  cardata[columns_to_replace] = cardata[columns_to_replace].replace({'Yes': 1, 'No': 0})\n",
      "C:\\Users\\sajad\\AppData\\Local\\Temp\\ipykernel_12820\\3179350803.py:3: FutureWarning: The behavior of Series.replace (and DataFrame.replace) with CategoricalDtype is deprecated. In a future version, replace will only be used for cases that preserve the categories. To change the categories, use ser.cat.rename_categories instead.\n",
      "  cardata[columns_to_replace] = cardata[columns_to_replace].replace({'Yes': 1, 'No': 0})\n",
      "C:\\Users\\sajad\\AppData\\Local\\Temp\\ipykernel_12820\\3179350803.py:3: FutureWarning: Downcasting behavior in `replace` is deprecated and will be removed in a future version. To retain the old behavior, explicitly call `result.infer_objects(copy=False)`. To opt-in to the future behavior, set `pd.set_option('future.no_silent_downcasting', True)`\n",
      "  cardata[columns_to_replace] = cardata[columns_to_replace].replace({'Yes': 1, 'No': 0})\n",
      "C:\\Users\\sajad\\AppData\\Local\\Temp\\ipykernel_12820\\3179350803.py:3: FutureWarning: The behavior of Series.replace (and DataFrame.replace) with CategoricalDtype is deprecated. In a future version, replace will only be used for cases that preserve the categories. To change the categories, use ser.cat.rename_categories instead.\n",
      "  cardata[columns_to_replace] = cardata[columns_to_replace].replace({'Yes': 1, 'No': 0})\n",
      "C:\\Users\\sajad\\AppData\\Local\\Temp\\ipykernel_12820\\3179350803.py:3: FutureWarning: Downcasting behavior in `replace` is deprecated and will be removed in a future version. To retain the old behavior, explicitly call `result.infer_objects(copy=False)`. To opt-in to the future behavior, set `pd.set_option('future.no_silent_downcasting', True)`\n",
      "  cardata[columns_to_replace] = cardata[columns_to_replace].replace({'Yes': 1, 'No': 0})\n",
      "C:\\Users\\sajad\\AppData\\Local\\Temp\\ipykernel_12820\\3179350803.py:3: FutureWarning: The behavior of Series.replace (and DataFrame.replace) with CategoricalDtype is deprecated. In a future version, replace will only be used for cases that preserve the categories. To change the categories, use ser.cat.rename_categories instead.\n",
      "  cardata[columns_to_replace] = cardata[columns_to_replace].replace({'Yes': 1, 'No': 0})\n",
      "C:\\Users\\sajad\\AppData\\Local\\Temp\\ipykernel_12820\\3179350803.py:3: FutureWarning: Downcasting behavior in `replace` is deprecated and will be removed in a future version. To retain the old behavior, explicitly call `result.infer_objects(copy=False)`. To opt-in to the future behavior, set `pd.set_option('future.no_silent_downcasting', True)`\n",
      "  cardata[columns_to_replace] = cardata[columns_to_replace].replace({'Yes': 1, 'No': 0})\n",
      "C:\\Users\\sajad\\AppData\\Local\\Temp\\ipykernel_12820\\3179350803.py:3: FutureWarning: The behavior of Series.replace (and DataFrame.replace) with CategoricalDtype is deprecated. In a future version, replace will only be used for cases that preserve the categories. To change the categories, use ser.cat.rename_categories instead.\n",
      "  cardata[columns_to_replace] = cardata[columns_to_replace].replace({'Yes': 1, 'No': 0})\n",
      "C:\\Users\\sajad\\AppData\\Local\\Temp\\ipykernel_12820\\3179350803.py:3: FutureWarning: Downcasting behavior in `replace` is deprecated and will be removed in a future version. To retain the old behavior, explicitly call `result.infer_objects(copy=False)`. To opt-in to the future behavior, set `pd.set_option('future.no_silent_downcasting', True)`\n",
      "  cardata[columns_to_replace] = cardata[columns_to_replace].replace({'Yes': 1, 'No': 0})\n",
      "C:\\Users\\sajad\\AppData\\Local\\Temp\\ipykernel_12820\\3179350803.py:3: FutureWarning: The behavior of Series.replace (and DataFrame.replace) with CategoricalDtype is deprecated. In a future version, replace will only be used for cases that preserve the categories. To change the categories, use ser.cat.rename_categories instead.\n",
      "  cardata[columns_to_replace] = cardata[columns_to_replace].replace({'Yes': 1, 'No': 0})\n",
      "C:\\Users\\sajad\\AppData\\Local\\Temp\\ipykernel_12820\\3179350803.py:3: FutureWarning: Downcasting behavior in `replace` is deprecated and will be removed in a future version. To retain the old behavior, explicitly call `result.infer_objects(copy=False)`. To opt-in to the future behavior, set `pd.set_option('future.no_silent_downcasting', True)`\n",
      "  cardata[columns_to_replace] = cardata[columns_to_replace].replace({'Yes': 1, 'No': 0})\n",
      "C:\\Users\\sajad\\AppData\\Local\\Temp\\ipykernel_12820\\3179350803.py:3: FutureWarning: The behavior of Series.replace (and DataFrame.replace) with CategoricalDtype is deprecated. In a future version, replace will only be used for cases that preserve the categories. To change the categories, use ser.cat.rename_categories instead.\n",
      "  cardata[columns_to_replace] = cardata[columns_to_replace].replace({'Yes': 1, 'No': 0})\n",
      "C:\\Users\\sajad\\AppData\\Local\\Temp\\ipykernel_12820\\3179350803.py:3: FutureWarning: Downcasting behavior in `replace` is deprecated and will be removed in a future version. To retain the old behavior, explicitly call `result.infer_objects(copy=False)`. To opt-in to the future behavior, set `pd.set_option('future.no_silent_downcasting', True)`\n",
      "  cardata[columns_to_replace] = cardata[columns_to_replace].replace({'Yes': 1, 'No': 0})\n",
      "C:\\Users\\sajad\\AppData\\Local\\Temp\\ipykernel_12820\\3179350803.py:3: FutureWarning: The behavior of Series.replace (and DataFrame.replace) with CategoricalDtype is deprecated. In a future version, replace will only be used for cases that preserve the categories. To change the categories, use ser.cat.rename_categories instead.\n",
      "  cardata[columns_to_replace] = cardata[columns_to_replace].replace({'Yes': 1, 'No': 0})\n",
      "C:\\Users\\sajad\\AppData\\Local\\Temp\\ipykernel_12820\\3179350803.py:3: FutureWarning: Downcasting behavior in `replace` is deprecated and will be removed in a future version. To retain the old behavior, explicitly call `result.infer_objects(copy=False)`. To opt-in to the future behavior, set `pd.set_option('future.no_silent_downcasting', True)`\n",
      "  cardata[columns_to_replace] = cardata[columns_to_replace].replace({'Yes': 1, 'No': 0})\n",
      "C:\\Users\\sajad\\AppData\\Local\\Temp\\ipykernel_12820\\3179350803.py:3: FutureWarning: The behavior of Series.replace (and DataFrame.replace) with CategoricalDtype is deprecated. In a future version, replace will only be used for cases that preserve the categories. To change the categories, use ser.cat.rename_categories instead.\n",
      "  cardata[columns_to_replace] = cardata[columns_to_replace].replace({'Yes': 1, 'No': 0})\n",
      "C:\\Users\\sajad\\AppData\\Local\\Temp\\ipykernel_12820\\3179350803.py:3: FutureWarning: Downcasting behavior in `replace` is deprecated and will be removed in a future version. To retain the old behavior, explicitly call `result.infer_objects(copy=False)`. To opt-in to the future behavior, set `pd.set_option('future.no_silent_downcasting', True)`\n",
      "  cardata[columns_to_replace] = cardata[columns_to_replace].replace({'Yes': 1, 'No': 0})\n",
      "C:\\Users\\sajad\\AppData\\Local\\Temp\\ipykernel_12820\\3179350803.py:3: FutureWarning: The behavior of Series.replace (and DataFrame.replace) with CategoricalDtype is deprecated. In a future version, replace will only be used for cases that preserve the categories. To change the categories, use ser.cat.rename_categories instead.\n",
      "  cardata[columns_to_replace] = cardata[columns_to_replace].replace({'Yes': 1, 'No': 0})\n",
      "C:\\Users\\sajad\\AppData\\Local\\Temp\\ipykernel_12820\\3179350803.py:3: FutureWarning: Downcasting behavior in `replace` is deprecated and will be removed in a future version. To retain the old behavior, explicitly call `result.infer_objects(copy=False)`. To opt-in to the future behavior, set `pd.set_option('future.no_silent_downcasting', True)`\n",
      "  cardata[columns_to_replace] = cardata[columns_to_replace].replace({'Yes': 1, 'No': 0})\n",
      "C:\\Users\\sajad\\AppData\\Local\\Temp\\ipykernel_12820\\3179350803.py:3: FutureWarning: The behavior of Series.replace (and DataFrame.replace) with CategoricalDtype is deprecated. In a future version, replace will only be used for cases that preserve the categories. To change the categories, use ser.cat.rename_categories instead.\n",
      "  cardata[columns_to_replace] = cardata[columns_to_replace].replace({'Yes': 1, 'No': 0})\n",
      "C:\\Users\\sajad\\AppData\\Local\\Temp\\ipykernel_12820\\3179350803.py:3: FutureWarning: Downcasting behavior in `replace` is deprecated and will be removed in a future version. To retain the old behavior, explicitly call `result.infer_objects(copy=False)`. To opt-in to the future behavior, set `pd.set_option('future.no_silent_downcasting', True)`\n",
      "  cardata[columns_to_replace] = cardata[columns_to_replace].replace({'Yes': 1, 'No': 0})\n",
      "C:\\Users\\sajad\\AppData\\Local\\Temp\\ipykernel_12820\\3179350803.py:3: FutureWarning: The behavior of Series.replace (and DataFrame.replace) with CategoricalDtype is deprecated. In a future version, replace will only be used for cases that preserve the categories. To change the categories, use ser.cat.rename_categories instead.\n",
      "  cardata[columns_to_replace] = cardata[columns_to_replace].replace({'Yes': 1, 'No': 0})\n",
      "C:\\Users\\sajad\\AppData\\Local\\Temp\\ipykernel_12820\\3179350803.py:3: FutureWarning: Downcasting behavior in `replace` is deprecated and will be removed in a future version. To retain the old behavior, explicitly call `result.infer_objects(copy=False)`. To opt-in to the future behavior, set `pd.set_option('future.no_silent_downcasting', True)`\n",
      "  cardata[columns_to_replace] = cardata[columns_to_replace].replace({'Yes': 1, 'No': 0})\n",
      "C:\\Users\\sajad\\AppData\\Local\\Temp\\ipykernel_12820\\3179350803.py:3: FutureWarning: The behavior of Series.replace (and DataFrame.replace) with CategoricalDtype is deprecated. In a future version, replace will only be used for cases that preserve the categories. To change the categories, use ser.cat.rename_categories instead.\n",
      "  cardata[columns_to_replace] = cardata[columns_to_replace].replace({'Yes': 1, 'No': 0})\n",
      "C:\\Users\\sajad\\AppData\\Local\\Temp\\ipykernel_12820\\3179350803.py:3: FutureWarning: Downcasting behavior in `replace` is deprecated and will be removed in a future version. To retain the old behavior, explicitly call `result.infer_objects(copy=False)`. To opt-in to the future behavior, set `pd.set_option('future.no_silent_downcasting', True)`\n",
      "  cardata[columns_to_replace] = cardata[columns_to_replace].replace({'Yes': 1, 'No': 0})\n",
      "C:\\Users\\sajad\\AppData\\Local\\Temp\\ipykernel_12820\\3179350803.py:3: FutureWarning: The behavior of Series.replace (and DataFrame.replace) with CategoricalDtype is deprecated. In a future version, replace will only be used for cases that preserve the categories. To change the categories, use ser.cat.rename_categories instead.\n",
      "  cardata[columns_to_replace] = cardata[columns_to_replace].replace({'Yes': 1, 'No': 0})\n",
      "C:\\Users\\sajad\\AppData\\Local\\Temp\\ipykernel_12820\\3179350803.py:3: FutureWarning: Downcasting behavior in `replace` is deprecated and will be removed in a future version. To retain the old behavior, explicitly call `result.infer_objects(copy=False)`. To opt-in to the future behavior, set `pd.set_option('future.no_silent_downcasting', True)`\n",
      "  cardata[columns_to_replace] = cardata[columns_to_replace].replace({'Yes': 1, 'No': 0})\n",
      "C:\\Users\\sajad\\AppData\\Local\\Temp\\ipykernel_12820\\3179350803.py:3: FutureWarning: The behavior of Series.replace (and DataFrame.replace) with CategoricalDtype is deprecated. In a future version, replace will only be used for cases that preserve the categories. To change the categories, use ser.cat.rename_categories instead.\n",
      "  cardata[columns_to_replace] = cardata[columns_to_replace].replace({'Yes': 1, 'No': 0})\n"
     ]
    }
   ],
   "source": [
    "cardata.drop(columns=['Motor Specs'], inplace=True)\n",
    "columns_to_replace = ['GPS', 'Trailer Hitch', '4WD', 'Parkingsensor', 'Cruise Control', 'Antispin', 'ESP', 'El-Sæder', 'Leather Interior', 'Glass Roof', 'Headup Display', 'Isofix', 'Klimaanlæg', 'Regnsensor', 'Soltag', 'Sports Package', 'Seatwarmer', 'Xenon Lights', 'Non-Smoker', 'One-Owner', 'Service OK', 'Nysynet', 'Demo Car', 'Partly Leather Interior', 'CVR/Engros', 'Full Leather', 'Adaptive Cruise Control']  # Specify the columns you want to replace values in\n",
    "cardata[columns_to_replace] = cardata[columns_to_replace].replace({'Yes': 1, 'No': 0})"
   ]
  },
  {
   "cell_type": "code",
   "execution_count": 21,
   "metadata": {},
   "outputs": [
    {
     "name": "stdout",
     "output_type": "stream",
     "text": [
      "Brand                      0\n",
      "Model                      0\n",
      "KM Driven                  0\n",
      "Km/L                       0\n",
      "Range (Electric)           0\n",
      "Gear                       0\n",
      "Price                      0\n",
      "GPS                        0\n",
      "Trailer Hitch              0\n",
      "4WD                        0\n",
      "Parkingsensor              0\n",
      "Cruise Control             0\n",
      "Antispin                   0\n",
      "ESP                        0\n",
      "El-Sæder                   0\n",
      "Leather Interior           0\n",
      "Glass Roof                 0\n",
      "Headup Display             0\n",
      "Isofix                     0\n",
      "Klimaanlæg                 0\n",
      "Regnsensor                 0\n",
      "Soltag                     0\n",
      "Sports Package             0\n",
      "Seatwarmer                 0\n",
      "Xenon Lights               0\n",
      "Non-Smoker                 0\n",
      "One-Owner                  0\n",
      "Service OK                 0\n",
      "Nysynet                    0\n",
      "Demo Car                   0\n",
      "Partly Leather Interior    0\n",
      "CVR/Engros                 0\n",
      "Full Leather               0\n",
      "Adaptive Cruise Control    0\n",
      "Link                       0\n",
      "Year                       0\n",
      "Fuel_Type                  0\n",
      "Horsepower                 0\n",
      "dtype: int64\n",
      "Total NaN values in the dataset: 0\n"
     ]
    }
   ],
   "source": [
    "# Count NaN values in each column\n",
    "na_count = cardata.isna().sum()\n",
    "\n",
    "# Print the count of NaNs for each column\n",
    "print(na_count)\n",
    "\n",
    "# Optionally, if you want to see the total number of NaNs in the entire dataset\n",
    "total_na = cardata.isna().sum().sum()\n",
    "print(\"Total NaN values in the dataset:\", total_na)"
   ]
  },
  {
   "cell_type": "code",
   "execution_count": 20,
   "metadata": {},
   "outputs": [
    {
     "name": "stdout",
     "output_type": "stream",
     "text": [
      "     Brand    Model  Horsepower\n",
      "0     Ford  Mustang       297.0\n",
      "1  Hyundai    Ioniq       350.0\n",
      "2  Hyundai    Ioniq       350.0\n",
      "3  Hyundai    Ioniq       350.0\n",
      "4  Hyundai     Kona       395.0\n"
     ]
    },
    {
     "name": "stderr",
     "output_type": "stream",
     "text": [
      "C:\\Users\\sajad\\AppData\\Local\\Temp\\ipykernel_12820\\3355364280.py:4: FutureWarning: The default of observed=False is deprecated and will be changed to True in a future version of pandas. Pass observed=False to retain current behavior or observed=True to adopt the future default and silence this warning.\n",
      "  brand_mean_horsepower = cardata.groupby('Brand')['Horsepower'].transform('mean')\n"
     ]
    }
   ],
   "source": [
    "import pandas as pd\n",
    "\n",
    "# Calculate the mean 'Horsepower' for each 'Brand'\n",
    "brand_mean_horsepower = cardata.groupby('Brand')['Horsepower'].transform('mean')\n",
    "\n",
    "# Impute missing 'Horsepower' values with the mean 'Horsepower' of their respective brand\n",
    "cardata['Horsepower'] = cardata['Horsepower'].fillna(brand_mean_horsepower)\n",
    "\n",
    "# Since the mean could be NaN if a brand's all Horsepower values are NaN, optionally handle these\n",
    "# by replacing any remaining NaNs with the overall mean of the 'Horsepower' across all brands\n",
    "overall_mean_horsepower = cardata['Horsepower'].mean()\n",
    "cardata['Horsepower'] = cardata['Horsepower'].fillna(overall_mean_horsepower)\n",
    "\n",
    "# Save the modified DataFrame\n",
    "cardata.to_csv('imputed_cardata.csv', index=False)\n",
    "\n",
    "# Print some of the data to verify\n",
    "print(cardata[['Brand', 'Model', 'Horsepower']].head())\n"
   ]
  },
  {
   "cell_type": "code",
   "execution_count": null,
   "metadata": {},
   "outputs": [],
   "source": []
  }
 ],
 "metadata": {
  "kernelspec": {
   "display_name": "Python 3",
   "language": "python",
   "name": "python3"
  },
  "language_info": {
   "codemirror_mode": {
    "name": "ipython",
    "version": 3
   },
   "file_extension": ".py",
   "mimetype": "text/x-python",
   "name": "python",
   "nbconvert_exporter": "python",
   "pygments_lexer": "ipython3",
   "version": "3.9.0"
  }
 },
 "nbformat": 4,
 "nbformat_minor": 2
}
